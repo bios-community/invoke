{
 "cells": [
  {
   "cell_type": "code",
   "execution_count": null,
   "metadata": {},
   "outputs": [],
   "source": [
    "import numpy as np\n",
    "import plotly.graph_objects as go\n",
    "import plotly.io as pio\n",
    "\n",
    "# Generate synthetic data\n",
    "np.random.seed(0)  # For reproducibility\n",
    "n_points = 100\n",
    "\n",
    "# CGPA values\n",
    "cgpa = np.random.uniform(2.0, 4.0, n_points)\n",
    "\n",
    "# IQ values\n",
    "iq = np.random.uniform(80, 160, n_points)\n",
    "\n",
    "# Generate LPA values with some noise\n",
    "true_relationship = 0.5 * cgpa + 0.2 * iq\n",
    "noise = np.random.normal(0, 1, n_points)\n",
    "lpa = true_relationship + noise\n",
    "\n",
    "# Create a 3D scatter plot\n",
    "fig = go.Figure(data=[go.Scatter3d(\n",
    "    x=cgpa,\n",
    "    y=iq,\n",
    "    z=lpa,\n",
    "    mode='markers',\n",
    "    marker=dict(\n",
    "        size=5,\n",
    "        color=lpa,  # Color by LPA value\n",
    "        colorscale='Viridis',\n",
    "        showscale=True\n",
    "    )\n",
    ")])\n",
    "\n",
    "# Update layout\n",
    "fig.update_layout(\n",
    "    title='3D Scatter Plot of CGPA vs IQ vs LPA',\n",
    "    scene=dict(\n",
    "        xaxis_title='CGPA',\n",
    "        yaxis_title='IQ',\n",
    "        zaxis_title='LPA'\n",
    "    )\n",
    ")\n",
    "\n",
    "# Save the figure as different image formats\n",
    "pio.write_image(fig, 'scatter_plot.png')\n",
    "# pio.write_image(fig, 'scatter_plot.jpeg')\n",
    "# pio.write_image(fig, 'scatter_plot.pdf')\n",
    "\n",
    "# Show plot\n",
    "fig.show()\n"
   ]
  },
  {
   "cell_type": "code",
   "execution_count": null,
   "metadata": {},
   "outputs": [],
   "source": []
  }
 ],
 "metadata": {
  "kernelspec": {
   "display_name": "venv",
   "language": "python",
   "name": "python3"
  },
  "language_info": {
   "codemirror_mode": {
    "name": "ipython",
    "version": 3
   },
   "file_extension": ".py",
   "mimetype": "text/x-python",
   "name": "python",
   "nbconvert_exporter": "python",
   "pygments_lexer": "ipython3",
   "version": "3.12.4"
  }
 },
 "nbformat": 4,
 "nbformat_minor": 2
}
